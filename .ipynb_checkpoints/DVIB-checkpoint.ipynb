{
 "cells": [
  {
   "cell_type": "markdown",
   "metadata": {},
   "source": [
    "# 1. Loading and normalizing MNIST"
   ]
  },
  {
   "cell_type": "code",
   "execution_count": 1,
   "metadata": {},
   "outputs": [],
   "source": [
    "import torch\n",
    "import torchvision\n",
    "import torchvision.transforms as transforms"
   ]
  },
  {
   "cell_type": "code",
   "execution_count": 2,
   "metadata": {},
   "outputs": [
    {
     "name": "stdout",
     "output_type": "stream",
     "text": [
      "60000\n",
      "600\n",
      "10000\n"
     ]
    }
   ],
   "source": [
    "batch_size = 100\n",
    "\n",
    "transform = transforms.Compose(\n",
    "    [transforms.ToTensor()])\n",
    "\n",
    "trainset = torchvision.datasets.MNIST(root='./data', train=True,\n",
    "                                        download=True, transform=transform)\n",
    "trainloader = torch.utils.data.DataLoader(trainset, batch_size=batch_size,\n",
    "                                          shuffle=True, num_workers=2)\n",
    "\n",
    "testset = torchvision.datasets.MNIST(root='./data', train=False,\n",
    "                                       download=True, transform=transform)\n",
    "testloader = torch.utils.data.DataLoader(testset, batch_size=batch_size,\n",
    "                                         shuffle=False, num_workers=2)\n",
    "classes = list(range(10))\n",
    "print(len(trainset))\n",
    "log_freq = len(trainset)//batch_size\n",
    "print(log_freq)\n",
    "print(len(testset))"
   ]
  },
  {
   "cell_type": "code",
   "execution_count": 3,
   "metadata": {},
   "outputs": [],
   "source": [
    "import matplotlib.pyplot as plt\n",
    "import numpy as np"
   ]
  },
  {
   "cell_type": "code",
   "execution_count": 4,
   "metadata": {},
   "outputs": [],
   "source": [
    "def imshow(img):\n",
    "    npimg = img.numpy();print(npimg.shape)\n",
    "    plt.imshow(np.transpose(npimg, (1, 2, 0)));print(np.transpose(npimg, (1, 2, 0)).shape)\n",
    "    plt.show()"
   ]
  },
  {
   "cell_type": "code",
   "execution_count": 5,
   "metadata": {},
   "outputs": [
    {
     "name": "stdout",
     "output_type": "stream",
     "text": [
      "torch.Size([100, 1, 28, 28])\n",
      "(3, 392, 242)\n",
      "(392, 242, 3)\n"
     ]
    },
    {
     "data": {
      "image/png": "[encoded data removed]",
      "text/plain": [
       "<Figure size 432x288 with 1 Axes>"
      ]
     },
     "metadata": {},
     "output_type": "display_data"
    },
    {
     "name": "stdout",
     "output_type": "stream",
     "text": [
      "    5     2     0     1\n"
     ]
    }
   ],
   "source": [
    "# show images\n",
    "# get some random training images\n",
    "dataiter = iter(trainloader)\n",
    "images, labels = dataiter.next()\n",
    "print(images.shape)\n",
    "\n",
    "# show images\n",
    "imshow(torchvision.utils.make_grid(images))\n",
    "# print labels\n",
    "print(' '.join('%5s' % classes[labels[j]] for j in range(4)))"
   ]
  },
  {
   "cell_type": "markdown",
   "metadata": {},
   "source": [
    "# 2. Define a Net with IB architecture"
   ]
  },
  {
   "cell_type": "code",
   "execution_count": 6,
   "metadata": {},
   "outputs": [],
   "source": [
    "import torch.nn as nn\n",
    "import torch.nn.functional as F"
   ]
  },
  {
   "cell_type": "code",
   "execution_count": 7,
   "metadata": {},
   "outputs": [
    {
     "name": "stdout",
     "output_type": "stream",
     "text": [
      "Let's use 4 GPUs!\n"
     ]
    }
   ],
   "source": [
    "# K is for latent dim\n",
    "K = 256\n",
    "num_latent = 30\n",
    "\n",
    "class Net(nn.Module):\n",
    "    def __init__(self, K=K, num_latent=num_latent):\n",
    "        super(Net, self).__init__()\n",
    "        self.fc1 = nn.Linear(784, 1024)\n",
    "        self.fc2 = nn.Linear(1024,1024)\n",
    "        self.enc_mean = nn.Linear(1024, K)\n",
    "        self.enc_std = nn.Linear(1024, K)\n",
    "        self.dec = nn.Linear(K, 10)\n",
    "        self.num_latent = num_latent\n",
    "        \n",
    "        nn.init.xavier_uniform_(self.fc1.weight)\n",
    "        nn.init.constant_(self.fc1.bias, 0.0)\n",
    "        nn.init.xavier_uniform_(self.fc2.weight)\n",
    "        nn.init.constant_(self.fc2.bias, 0.0)\n",
    "        nn.init.xavier_uniform_(self.enc_mean.weight)\n",
    "        nn.init.constant_(self.enc_mean.bias, 0.0)\n",
    "        nn.init.xavier_uniform_(self.enc_std.weight)\n",
    "        nn.init.constant_(self.enc_std.bias, 0.0)\n",
    "        nn.init.xavier_uniform_(self.dec.weight)\n",
    "        nn.init.constant_(self.dec.bias, 0.0)\n",
    "        \n",
    "    def forward(self, x):\n",
    "        x = x.view(-1, 784)\n",
    "        x = 2*x - 1. # input normalize to [-1,1]\n",
    "        x = F.relu(self.fc1(x))\n",
    "        x = F.relu(self.fc2(x))\n",
    "        enc_mean, enc_std = self.enc_mean(x), F.softplus(self.enc_std(x)-5)\n",
    "        latent = enc_mean.unsqueeze(1) + torch.randn((tuple(enc_std.shape)[0],)\\\n",
    "                                        +(self.num_latent,)\\\n",
    "                                        + tuple(enc_std.shape)[1:]).cuda() * enc_std.unsqueeze(1)\n",
    "        outputs = F.softmax(self.dec(latent),dim=2)\n",
    "        output = torch.mean(outputs, dim=1)\n",
    "        return outputs, output, enc_mean, enc_std\n",
    "    \n",
    "def update_target(target, original, update_rate):\n",
    "        for target_param, param in zip(target.parameters(), original.parameters()):\n",
    "            target_param.data.copy_((1.0 - update_rate) * target_param.data + update_rate*param.data)\n",
    "    \n",
    "net = Net()\n",
    "net_test = Net()\n",
    "device = torch.device(\"cuda:0\" if torch.cuda.is_available() else \"cpu\")\n",
    "if torch.cuda.device_count() > 1:\n",
    "    print(\"Let's use\",torch.cuda.device_count(),\"GPUs!\")\n",
    "    net = nn.DataParallel(net)\n",
    "    net_test = nn.DataParallel(net_test)\n",
    "net.to(device)\n",
    "net_test.to(device)\n",
    "net_test.load_state_dict(net.state_dict())"
   ]
  },
  {
   "cell_type": "markdown",
   "metadata": {},
   "source": [
    "# 3. Define a Loss function and optimizer"
   ]
  },
  {
   "cell_type": "code",
   "execution_count": 8,
   "metadata": {},
   "outputs": [],
   "source": [
    "import torch.optim as optim"
   ]
  },
  {
   "cell_type": "code",
   "execution_count": 9,
   "metadata": {},
   "outputs": [],
   "source": [
    "CE = nn.CrossEntropyLoss()\n",
    "\n",
    "def calc_loss(outputs, labels, enc_mean, enc_std, beta=1e-4):\n",
    "    labels = labels.view(-1,1) * torch.ones(batch_size, num_latent, dtype=torch.long).cuda()\n",
    "    ce = CE(outputs.view(-1,10), labels.view(-1))\n",
    "    loss = ce + beta * 0.5 * torch.mean(torch.sum(enc_mean**2 + \\\n",
    "                                        enc_std**2 - torch.log(enc_std**2) - 1,dim=1))\n",
    "    return loss\n",
    "\n",
    "optimizer = optim.Adam(net.parameters(), lr=1e-4, betas=(0.5,0.999))\n",
    "scheduler = optim.lr_scheduler.ExponentialLR(optimizer,gamma=0.97)"
   ]
  },
  {
   "cell_type": "code",
   "execution_count": 10,
   "metadata": {},
   "outputs": [],
   "source": [
    "def train(epoch, log_freq=log_freq):\n",
    "    running_loss = 0.0\n",
    "    for i, data in enumerate(trainloader, 0):\n",
    "        # get the inputs\n",
    "        inputs, labels = data\n",
    "        inputs, labels = inputs.to(device), labels.to(device)\n",
    "\n",
    "        # zero the parameter gradients\n",
    "        optimizer.zero_grad()\n",
    "\n",
    "        # forward + backward + optimize\n",
    "        outputs, output, end_means, enc_stds = net(inputs)\n",
    "        loss = calc_loss(outputs, labels, end_means, enc_stds)\n",
    "        loss.backward()\n",
    "        optimizer.step()\n",
    "        update_target(net_test, net, 0.001)\n",
    "\n",
    "        # print statistics\n",
    "        running_loss += loss.item()\n",
    "        if (i+1) % log_freq == 0:    # print every 2000 mini-batches\n",
    "            print('[Epoch : %d, Iter: %5d] loss: %.3f' %\n",
    "                  (epoch + 1, i + 1, running_loss / log_freq))\n",
    "    return running_loss / log_freq\n",
    "        \n",
    "def test():\n",
    "    print('Start test')\n",
    "    class_correct = list(0. for i in range(10))\n",
    "    class_total = list(0. for i in range(10))\n",
    "    with torch.no_grad():\n",
    "        for data in testloader:\n",
    "            inputs, labels = data\n",
    "            inputs, labels = inputs.to(device), labels.to(device)\n",
    "            outputs, output, end_means, enc_stds = net_test(inputs)\n",
    "            _, predicted = torch.max(output, 1)\n",
    "            c = (predicted == labels).squeeze()\n",
    "            for i in range(len(labels)):\n",
    "                label = labels[i]\n",
    "                class_correct[label] += c[i].item()\n",
    "                class_total[label] += 1\n",
    "\n",
    "\n",
    "    for i in range(10):\n",
    "        print('Accuracy of %5s : %.2f %%' % (\n",
    "            classes[i], 100 * class_correct[i] / class_total[i]))\n",
    "\n",
    "    test_score = np.mean([100 * class_correct[i] / class_total[i] for i in range(10)])\n",
    "    print(test_score)\n",
    "    return test_score"
   ]
  },
  {
   "cell_type": "code",
   "execution_count": null,
   "metadata": {
    "scrolled": false
   },
   "outputs": [
    {
     "data": {
      "application/vnd.jupyter.widget-view+json": {
       "model_id": "19656072755c452aa953639b8a947ccf",
       "version_major": 2,
       "version_minor": 0
      },
      "text/plain": [
       "HBox(children=(IntProgress(value=0, max=200), HTML(value='')))"
      ]
     },
     "metadata": {},
     "output_type": "display_data"
    },
    {
     "name": "stdout",
     "output_type": "stream",
     "text": [
      "[Epoch : 1, Iter:   600] loss: 1.639\n",
      "[Epoch : 2, Iter:   600] loss: 1.533\n",
      "[Epoch : 3, Iter:   600] loss: 1.515\n",
      "[Epoch : 4, Iter:   600] loss: 1.505\n",
      "[Epoch : 5, Iter:   600] loss: 1.498\n",
      "[Epoch : 6, Iter:   600] loss: 1.493\n",
      "[Epoch : 7, Iter:   600] loss: 1.489\n",
      "[Epoch : 8, Iter:   600] loss: 1.486\n",
      "[Epoch : 9, Iter:   600] loss: 1.483\n",
      "[Epoch : 10, Iter:   600] loss: 1.481\n",
      "Start test\n",
      "Accuracy of     0 : 99.18 %\n",
      "Accuracy of     1 : 99.30 %\n",
      "Accuracy of     2 : 98.45 %\n",
      "Accuracy of     3 : 98.61 %\n",
      "Accuracy of     4 : 98.68 %\n",
      "Accuracy of     5 : 98.21 %\n",
      "Accuracy of     6 : 98.33 %\n",
      "Accuracy of     7 : 97.67 %\n",
      "Accuracy of     8 : 98.25 %\n",
      "Accuracy of     9 : 97.42 %\n",
      "98.40977854636999\n",
      "[Epoch : 11, Iter:   600] loss: 1.479\n",
      "[Epoch : 12, Iter:   600] loss: 1.478\n",
      "[Epoch : 13, Iter:   600] loss: 1.476\n"
     ]
    }
   ],
   "source": [
    "from tqdm import tqdm_notebook\n",
    "\n",
    "epoch_num = 200\n",
    "test_freq = 10\n",
    "losses = list()\n",
    "test_scores = list()\n",
    "\n",
    "def main():\n",
    "    for i in tqdm_notebook(range(epoch_num)):\n",
    "        loss_avg = train(i)\n",
    "        losses.append(loss_avg)\n",
    "        if (i+1) % test_freq == 0:\n",
    "            test_score = test()\n",
    "            test_scores.append(test_score)\n",
    "        if (i+1) % 2 == 0:\n",
    "            scheduler.step()\n",
    "            \n",
    "main()"
   ]
  }
 ],
 "metadata": {
  "kernelspec": {
   "display_name": "Python 3",
   "language": "python",
   "name": "python3"
  },
  "language_info": {
   "codemirror_mode": {
    "name": "ipython",
    "version": 3
   },
   "file_extension": ".py",
   "mimetype": "text/x-python",
   "name": "python",
   "nbconvert_exporter": "python",
   "pygments_lexer": "ipython3",
   "version": "3.6.5"
  }
 },
 "nbformat": 4,
 "nbformat_minor": 2
}
