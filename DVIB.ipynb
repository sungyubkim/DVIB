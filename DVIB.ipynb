{
 "cells": [
  {
   "cell_type": "markdown",
   "metadata": {},
   "source": [
    "# 1. Loading and normalizing MNIST"
   ]
  },
  {
   "cell_type": "code",
   "execution_count": 1,
   "metadata": {},
   "outputs": [],
   "source": [
    "import torch\n",
    "import torchvision\n",
    "import torchvision.transforms as transforms"
   ]
  },
  {
   "cell_type": "code",
   "execution_count": 2,
   "metadata": {},
   "outputs": [
    {
     "name": "stdout",
     "output_type": "stream",
     "text": [
      "60000\n",
      "600\n",
      "10000\n"
     ]
    }
   ],
   "source": [
    "batch_size = 100\n",
    "\n",
    "transform = transforms.Compose(\n",
    "    [transforms.ToTensor()])\n",
    "\n",
    "trainset = torchvision.datasets.MNIST(root='./data', train=True,\n",
    "                                        download=True, transform=transform)\n",
    "trainloader = torch.utils.data.DataLoader(trainset, batch_size=batch_size,\n",
    "                                          shuffle=True, num_workers=2)\n",
    "\n",
    "testset = torchvision.datasets.MNIST(root='./data', train=False,\n",
    "                                       download=True, transform=transform)\n",
    "testloader = torch.utils.data.DataLoader(testset, batch_size=batch_size,\n",
    "                                         shuffle=False, num_workers=2)\n",
    "classes = list(range(10))\n",
    "print(len(trainset))\n",
    "log_freq = len(trainset)//batch_size\n",
    "print(log_freq)\n",
    "print(len(testset))"
   ]
  },
  {
   "cell_type": "code",
   "execution_count": 3,
   "metadata": {},
   "outputs": [],
   "source": [
    "import matplotlib.pyplot as plt\n",
    "import seaborn as sns\n",
    "import numpy as np\n",
    "sns.set()"
   ]
  },
  {
   "cell_type": "code",
   "execution_count": 4,
   "metadata": {},
   "outputs": [],
   "source": [
    "def imshow(img):\n",
    "    npimg = img.numpy();print(npimg.shape)\n",
    "    plt.imshow(np.transpose(npimg, (1, 2, 0)));print(np.transpose(npimg, (1, 2, 0)).shape)\n",
    "    plt.show()"
   ]
  },
  {
   "cell_type": "code",
   "execution_count": 5,
   "metadata": {},
   "outputs": [
    {
     "name": "stdout",
     "output_type": "stream",
     "text": [
      "torch.Size([100, 1, 28, 28])\n",
      "(3, 392, 242)\n",
      "(392, 242, 3)\n"
     ]
    },
    {
     "data": {
      "image/png": "[encoded data removed]",
      "text/plain": [
       "<Figure size 432x288 with 1 Axes>"
      ]
     },
     "metadata": {},
     "output_type": "display_data"
    },
    {
     "name": "stdout",
     "output_type": "stream",
     "text": [
      "    2     6     1     0\n"
     ]
    }
   ],
   "source": [
    "# show images\n",
    "# get some random training images\n",
    "dataiter = iter(trainloader)\n",
    "images, labels = dataiter.next()\n",
    "print(images.shape)\n",
    "\n",
    "# show images\n",
    "imshow(torchvision.utils.make_grid(images))\n",
    "# print labels\n",
    "print(' '.join('%5s' % classes[labels[j]] for j in range(4)))"
   ]
  },
  {
   "cell_type": "markdown",
   "metadata": {},
   "source": [
    "# 2. Define a Net with IB architecture"
   ]
  },
  {
   "cell_type": "code",
   "execution_count": 6,
   "metadata": {},
   "outputs": [],
   "source": [
    "import torch.nn as nn\n",
    "import torch.nn.functional as F"
   ]
  },
  {
   "cell_type": "code",
   "execution_count": 7,
   "metadata": {},
   "outputs": [],
   "source": [
    "# K is for latent dim\n",
    "K = 256\n",
    "num_latent = 12\n",
    "\n",
    "class Net(nn.Module):\n",
    "    def __init__(self, K=K, num_latent=num_latent):\n",
    "        super(Net, self).__init__()\n",
    "        self.fc1 = nn.Linear(784, 1024)\n",
    "        self.fc2 = nn.Linear(1024,1024)\n",
    "        self.enc_mean = nn.Linear(1024, K)\n",
    "        self.enc_std = nn.Linear(1024, K)\n",
    "        self.dec = nn.Linear(K, 10)\n",
    "        self.num_latent = num_latent\n",
    "        \n",
    "        nn.init.xavier_uniform_(self.fc1.weight)\n",
    "        nn.init.constant_(self.fc1.bias, 0.0)\n",
    "        nn.init.xavier_uniform_(self.fc2.weight)\n",
    "        nn.init.constant_(self.fc2.bias, 0.0)\n",
    "        nn.init.xavier_uniform_(self.enc_mean.weight)\n",
    "        nn.init.constant_(self.enc_mean.bias, 0.0)\n",
    "        nn.init.xavier_uniform_(self.enc_std.weight)\n",
    "        nn.init.constant_(self.enc_std.bias, 0.0)\n",
    "        nn.init.xavier_uniform_(self.dec.weight)\n",
    "        nn.init.constant_(self.dec.bias, 0.0)\n",
    "        \n",
    "    def forward(self, x):\n",
    "        x = x.view(-1, 784)\n",
    "        x = 2*x - 1. # input normalize to [-1,1]\n",
    "        x = F.relu(self.fc1(x))\n",
    "        x = F.relu(self.fc2(x))\n",
    "        enc_mean, enc_std = self.enc_mean(x), F.softplus(self.enc_std(x)-5)\n",
    "        latent = enc_mean.unsqueeze(1) + torch.randn((tuple(enc_std.shape)[0],)\\\n",
    "                                        +(self.num_latent,)\\\n",
    "                                        + tuple(enc_std.shape)[1:]).cuda() * enc_std.unsqueeze(1)\n",
    "        outputs = F.softmax(self.dec(latent),dim=2)\n",
    "        output = torch.mean(outputs, dim=1)\n",
    "        return outputs, output, enc_mean, enc_std\n",
    "    \n",
    "def update_target(target, original, update_rate):\n",
    "        for target_param, param in zip(target.parameters(), original.parameters()):\n",
    "            target_param.data.copy_((1.0 - update_rate) * target_param.data + update_rate*param.data)"
   ]
  },
  {
   "cell_type": "markdown",
   "metadata": {},
   "source": [
    "# 3. Define a Loss function and optimizer"
   ]
  },
  {
   "cell_type": "code",
   "execution_count": 8,
   "metadata": {},
   "outputs": [],
   "source": [
    "import torch.optim as optim"
   ]
  },
  {
   "cell_type": "code",
   "execution_count": 9,
   "metadata": {},
   "outputs": [],
   "source": [
    "CE = nn.CrossEntropyLoss()\n",
    "betas = [1e-1, 1e-2, 1e-3, 1e-4, 1e-5, 1e-6]\n",
    "\n",
    "def calc_loss(outputs, labels, enc_mean, enc_std, beta=1e-4):\n",
    "    labels = labels.view(-1,1) * torch.ones(batch_size, num_latent, dtype=torch.long).cuda()\n",
    "    ce = CE(outputs.view(-1,10), labels.view(-1))\n",
    "    loss = ce + beta * 0.5 * torch.mean(torch.sum(enc_mean**2 + \\\n",
    "                                        enc_std**2 - torch.log(enc_std**2) - 1,dim=1))\n",
    "    return loss"
   ]
  },
  {
   "cell_type": "code",
   "execution_count": 10,
   "metadata": {},
   "outputs": [],
   "source": [
    "def train(beta, epoch, net, net_test, optimizer, log_freq=log_freq):\n",
    "    running_loss = 0.0\n",
    "    for i, data in enumerate(trainloader, 0):\n",
    "        # get the inputs\n",
    "        inputs, labels = data\n",
    "        inputs, labels = inputs.to(device), labels.to(device)\n",
    "\n",
    "        # zero the parameter gradients\n",
    "        optimizer.zero_grad()\n",
    "\n",
    "        # forward + backward + optimize\n",
    "        outputs, output, end_means, enc_stds = net(inputs)\n",
    "        loss = calc_loss(outputs, labels, end_means, enc_stds, beta)\n",
    "        loss.backward()\n",
    "        optimizer.step()\n",
    "        update_target(net_test, net, 0.001)\n",
    "\n",
    "        # print statistics\n",
    "        running_loss += loss.item()\n",
    "        if (i+1) % log_freq == 0:    # print every 2000 mini-batches\n",
    "            print('[Epoch : %d, Iter: %5d] loss: %.3f' %\n",
    "                  (epoch + 1, i + 1, running_loss / log_freq))\n",
    "    return running_loss / log_freq\n",
    "        \n",
    "def test(net_test):\n",
    "    print('Start test')\n",
    "    class_correct = list(0. for i in range(10))\n",
    "    class_total = list(0. for i in range(10))\n",
    "    with torch.no_grad():\n",
    "        for data in testloader:\n",
    "            inputs, labels = data\n",
    "            inputs, labels = inputs.to(device), labels.to(device)\n",
    "            outputs, output, end_means, enc_stds = net_test(inputs)\n",
    "            _, predicted = torch.max(output, 1)\n",
    "            c = (predicted == labels).squeeze()\n",
    "            for i in range(len(labels)):\n",
    "                label = labels[i]\n",
    "                class_correct[label] += c[i].item()\n",
    "                class_total[label] += 1\n",
    "\n",
    "\n",
    "    for i in range(10):\n",
    "        print('Accuracy of %5s : %.2f %%' % (\n",
    "            classes[i], 100 * class_correct[i] / class_total[i]))\n",
    "\n",
    "    test_score = np.mean([100 * class_correct[i] / class_total[i] for i in range(10)])\n",
    "    print(test_score)\n",
    "    return test_score"
   ]
  },
  {
   "cell_type": "code",
   "execution_count": 11,
   "metadata": {
    "scrolled": true
   },
   "outputs": [],
   "source": [
    "from tqdm import tqdm_notebook\n",
    "\n",
    "epoch_num = 200\n",
    "test_freq = 10\n",
    "losses = list()\n",
    "test_scores = list()\n",
    "device = torch.device(\"cuda:0\" if torch.cuda.is_available() else \"cpu\")\n",
    "train = False\n",
    "\n",
    "# SAVE\n",
    "def save(beta, net, net_test):\n",
    "    net_path = './model/net'+str(beta)+'.pkl'\n",
    "    net_test_path = './model/net_test'+str(beta)+'.pkl'\n",
    "    net = net.cpu()\n",
    "    torch.save(net.state_dict(), net_path)\n",
    "    net_test = net_test.cpu()\n",
    "    torch.save(net_test.state_dict(), net_test_path)\n",
    "    # Place it to GPU back\n",
    "    net.to(device)\n",
    "    net_test.to(device)\n",
    "    return net, net_test\n",
    "    \n",
    "def load(beta, net, net_test):\n",
    "    net_path = './model/net'+str(beta)+'.pkl'\n",
    "    net_test_path = './model/net_test'+str(beta)+'.pkl'\n",
    "    # LOAD\n",
    "    net.load_state_dict(torch.load(net_path))\n",
    "    net_test.load_state_dict(torch.load(net_test_path))\n",
    "    # Place it to GPU\n",
    "    net.to(device)\n",
    "    net_test.to(device)\n",
    "    return net, net_test\n",
    "\n",
    "def main():\n",
    "    for beta in betas:\n",
    "        print(beta)\n",
    "        net = Net()\n",
    "        net_test = Net()\n",
    "        if torch.cuda.device_count() > 1:\n",
    "            print(\"Let's use\",torch.cuda.device_count(),\"GPUs!\")\n",
    "            net = nn.DataParallel(net)\n",
    "            net_test = nn.DataParallel(net_test)\n",
    "        net.to(device)\n",
    "        net_test.to(device)\n",
    "        net_test.load_state_dict(net.state_dict())\n",
    "        \n",
    "        optimizer = optim.Adam(net.parameters(), lr=1e-4, betas=(0.5,0.999))\n",
    "        scheduler = optim.lr_scheduler.ExponentialLR(optimizer,gamma=0.97)\n",
    "\n",
    "        for i in tqdm_notebook(range(epoch_num)):\n",
    "            loss_avg = train(beta=beta, net=net, net_test=net_test, optimizer=optimizer, epoch=i)\n",
    "            losses.append(loss_avg)\n",
    "            if (i+1) % test_freq == 0:\n",
    "                test_score = test(net_test)\n",
    "                test_scores.append(test_score)\n",
    "            if (i+1) % 2 == 0:\n",
    "                scheduler.step()\n",
    "                \n",
    "        save(beta, net, net_test)\n",
    "\n",
    "if train:\n",
    "    main()"
   ]
  },
  {
   "cell_type": "markdown",
   "metadata": {},
   "source": [
    "# 5. Test for FSGM attack"
   ]
  },
  {
   "cell_type": "code",
   "execution_count": 12,
   "metadata": {},
   "outputs": [],
   "source": [
    "epsilons = [0, .05, .1, .15, .2, .25, .3]"
   ]
  },
  {
   "cell_type": "code",
   "execution_count": 13,
   "metadata": {},
   "outputs": [],
   "source": [
    "# FGSM attack code\n",
    "def fgsm_attack(image, epsilon, data_grad):\n",
    "    # Collect the element-wise sign of the data gradient\n",
    "    sign_data_grad = data_grad.sign()\n",
    "    # Create the perturbed image by adjusting each pixel of the input image\n",
    "    perturbed_image = image + epsilon*sign_data_grad\n",
    "    # Adding clipping to maintain [0,1] range\n",
    "    perturbed_image = torch.clamp(perturbed_image, 0, 1)\n",
    "    # Return the perturbed image\n",
    "    return perturbed_image"
   ]
  },
  {
   "cell_type": "code",
   "execution_count": 14,
   "metadata": {},
   "outputs": [],
   "source": [
    "def test( model, device, test_loader, epsilon ):\n",
    "\n",
    "    # Accuracy counter\n",
    "    correct = 0\n",
    "    adv_examples = []\n",
    "\n",
    "    # Loop over all examples in test set\n",
    "    for data, target in tqdm_notebook(test_loader):\n",
    "\n",
    "        # Send the data and label to the device\n",
    "        data, target = data.to(device), target.to(device)\n",
    "\n",
    "        # Set requires_grad attribute of tensor. Important for Attack\n",
    "        data.requires_grad = True\n",
    "\n",
    "        # Forward pass the data through the model\n",
    "        outputs, output, end_means, enc_stds = model(data)\n",
    "        init_pred = output.max(1, keepdim=True)[1] # get the index of the max log-probability\n",
    "\n",
    "        # If the initial prediction is wrong, dont bother attacking, just move on\n",
    "        if init_pred.item() != target.item():\n",
    "            continue\n",
    "\n",
    "        # Calculate the loss\n",
    "        loss = F.nll_loss(output, target)\n",
    "\n",
    "        # Zero all existing gradients\n",
    "        model.zero_grad()\n",
    "\n",
    "        # Calculate gradients of model in backward pass\n",
    "        loss.backward()\n",
    "\n",
    "        # Collect datagrad\n",
    "        data_grad = data.grad.data\n",
    "\n",
    "        # Call FGSM Attack\n",
    "        perturbed_data = fgsm_attack(data, epsilon, data_grad)\n",
    "\n",
    "        # Re-classify the perturbed image\n",
    "        outputs, output, end_means, enc_stds= model(perturbed_data)\n",
    "\n",
    "        # Check for success\n",
    "        final_pred = output.max(1, keepdim=True)[1] # get the index of the max log-probability\n",
    "        if final_pred.item() == target.item():\n",
    "            correct += 1\n",
    "            # Special case for saving 0 epsilon examples\n",
    "            if (epsilon == 0) and (len(adv_examples) < 5):\n",
    "                adv_ex = perturbed_data.squeeze().detach().cpu().numpy()\n",
    "                adv_examples.append( (init_pred.item(), final_pred.item(), adv_ex) )\n",
    "        else:\n",
    "            # Save some adv examples for visualization later\n",
    "            if len(adv_examples) < 5:\n",
    "                adv_ex = perturbed_data.squeeze().detach().cpu().numpy()\n",
    "                adv_examples.append( (init_pred.item(), final_pred.item(), adv_ex) )\n",
    "\n",
    "    # Calculate final accuracy for this epsilon\n",
    "    final_acc = correct/float(len(test_loader))\n",
    "    print(\"Epsilon: {}\\tTest Accuracy = {} / {} = {}\".format(epsilon, correct, len(test_loader), final_acc))\n",
    "\n",
    "    # Return the accuracy and an adversarial example\n",
    "    return final_acc, adv_examples"
   ]
  },
  {
   "cell_type": "code",
   "execution_count": 15,
   "metadata": {
    "scrolled": false
   },
   "outputs": [
    {
     "name": "stdout",
     "output_type": "stream",
     "text": [
      "Let's use 4 GPUs!\n",
      "0.1\n"
     ]
    },
    {
     "data": {
      "application/vnd.jupyter.widget-view+json": {
       "model_id": "7c55a075d1dd4017a1c45718cecaf017",
       "version_major": 2,
       "version_minor": 0
      },
      "text/plain": [
       "HBox(children=(IntProgress(value=0, max=7), HTML(value='')))"
      ]
     },
     "metadata": {},
     "output_type": "display_data"
    },
    {
     "data": {
      "application/vnd.jupyter.widget-view+json": {
       "model_id": "140ca7d27ccd4089b908c108292ea34f",
       "version_major": 2,
       "version_minor": 0
      },
      "text/plain": [
       "HBox(children=(IntProgress(value=0, max=10000), HTML(value='')))"
      ]
     },
     "metadata": {},
     "output_type": "display_data"
    },
    {
     "name": "stdout",
     "output_type": "stream",
     "text": [
      "Epsilon: 0\tTest Accuracy = 9723 / 10000 = 0.9723\n"
     ]
    },
    {
     "data": {
      "application/vnd.jupyter.widget-view+json": {
       "model_id": "c87530a3dce4441bb6fd8178a0575c98",
       "version_major": 2,
       "version_minor": 0
      },
      "text/plain": [
       "HBox(children=(IntProgress(value=0, max=10000), HTML(value='')))"
      ]
     },
     "metadata": {},
     "output_type": "display_data"
    },
    {
     "name": "stdout",
     "output_type": "stream",
     "text": [
      "Epsilon: 0.05\tTest Accuracy = 6785 / 10000 = 0.6785\n"
     ]
    },
    {
     "data": {
      "application/vnd.jupyter.widget-view+json": {
       "model_id": "d66748452c1a4e2096af1c321ddff806",
       "version_major": 2,
       "version_minor": 0
      },
      "text/plain": [
       "HBox(children=(IntProgress(value=0, max=10000), HTML(value='')))"
      ]
     },
     "metadata": {},
     "output_type": "display_data"
    },
    {
     "name": "stdout",
     "output_type": "stream",
     "text": [
      "Epsilon: 0.1\tTest Accuracy = 1921 / 10000 = 0.1921\n"
     ]
    },
    {
     "data": {
      "application/vnd.jupyter.widget-view+json": {
       "model_id": "689c66f0019c4fc6873301ed62c85560",
       "version_major": 2,
       "version_minor": 0
      },
      "text/plain": [
       "HBox(children=(IntProgress(value=0, max=10000), HTML(value='')))"
      ]
     },
     "metadata": {},
     "output_type": "display_data"
    },
    {
     "name": "stdout",
     "output_type": "stream",
     "text": [
      "Epsilon: 0.15\tTest Accuracy = 604 / 10000 = 0.0604\n"
     ]
    },
    {
     "data": {
      "application/vnd.jupyter.widget-view+json": {
       "model_id": "b7eca0d773cb49b1b22c6402e2b36d7d",
       "version_major": 2,
       "version_minor": 0
      },
      "text/plain": [
       "HBox(children=(IntProgress(value=0, max=10000), HTML(value='')))"
      ]
     },
     "metadata": {},
     "output_type": "display_data"
    },
    {
     "name": "stdout",
     "output_type": "stream",
     "text": [
      "Epsilon: 0.2\tTest Accuracy = 341 / 10000 = 0.0341\n"
     ]
    },
    {
     "data": {
      "application/vnd.jupyter.widget-view+json": {
       "model_id": "d545aefd8f694d31bcf9075e41e456bd",
       "version_major": 2,
       "version_minor": 0
      },
      "text/plain": [
       "HBox(children=(IntProgress(value=0, max=10000), HTML(value='')))"
      ]
     },
     "metadata": {},
     "output_type": "display_data"
    },
    {
     "name": "stdout",
     "output_type": "stream",
     "text": [
      "Epsilon: 0.25\tTest Accuracy = 249 / 10000 = 0.0249\n"
     ]
    },
    {
     "data": {
      "application/vnd.jupyter.widget-view+json": {
       "model_id": "9e6bd26874e649a8b6612d49126b8090",
       "version_major": 2,
       "version_minor": 0
      },
      "text/plain": [
       "HBox(children=(IntProgress(value=0, max=10000), HTML(value='')))"
      ]
     },
     "metadata": {},
     "output_type": "display_data"
    },
    {
     "name": "stdout",
     "output_type": "stream",
     "text": [
      "Epsilon: 0.3\tTest Accuracy = 210 / 10000 = 0.021\n",
      "\n",
      "0.01\n"
     ]
    },
    {
     "data": {
      "application/vnd.jupyter.widget-view+json": {
       "model_id": "d806b2482f994fe3b008e4e6609f8023",
       "version_major": 2,
       "version_minor": 0
      },
      "text/plain": [
       "HBox(children=(IntProgress(value=0, max=7), HTML(value='')))"
      ]
     },
     "metadata": {},
     "output_type": "display_data"
    },
    {
     "data": {
      "application/vnd.jupyter.widget-view+json": {
       "model_id": "05c1ff62d61546f4ba40e143cc6b1213",
       "version_major": 2,
       "version_minor": 0
      },
      "text/plain": [
       "HBox(children=(IntProgress(value=0, max=10000), HTML(value='')))"
      ]
     },
     "metadata": {},
     "output_type": "display_data"
    },
    {
     "name": "stdout",
     "output_type": "stream",
     "text": [
      "Epsilon: 0\tTest Accuracy = 9843 / 10000 = 0.9843\n"
     ]
    },
    {
     "data": {
      "application/vnd.jupyter.widget-view+json": {
       "model_id": "4a060faae67d4fbd97631b98cba3d13d",
       "version_major": 2,
       "version_minor": 0
      },
      "text/plain": [
       "HBox(children=(IntProgress(value=0, max=10000), HTML(value='')))"
      ]
     },
     "metadata": {},
     "output_type": "display_data"
    },
    {
     "name": "stdout",
     "output_type": "stream",
     "text": [
      "Epsilon: 0.05\tTest Accuracy = 8880 / 10000 = 0.888\n"
     ]
    },
    {
     "data": {
      "application/vnd.jupyter.widget-view+json": {
       "model_id": "cefbb5a5525c4117b5ff308fb3967a0d",
       "version_major": 2,
       "version_minor": 0
      },
      "text/plain": [
       "HBox(children=(IntProgress(value=0, max=10000), HTML(value='')))"
      ]
     },
     "metadata": {},
     "output_type": "display_data"
    },
    {
     "name": "stdout",
     "output_type": "stream",
     "text": [
      "Epsilon: 0.1\tTest Accuracy = 7651 / 10000 = 0.7651\n"
     ]
    },
    {
     "data": {
      "application/vnd.jupyter.widget-view+json": {
       "model_id": "ea669c7c25bc4d85a66c19a6fc22b168",
       "version_major": 2,
       "version_minor": 0
      },
      "text/plain": [
       "HBox(children=(IntProgress(value=0, max=10000), HTML(value='')))"
      ]
     },
     "metadata": {},
     "output_type": "display_data"
    },
    {
     "name": "stdout",
     "output_type": "stream",
     "text": [
      "Epsilon: 0.15\tTest Accuracy = 5799 / 10000 = 0.5799\n"
     ]
    },
    {
     "data": {
      "application/vnd.jupyter.widget-view+json": {
       "model_id": "de73a2c6d6bd430f8ee3e4f71db34a45",
       "version_major": 2,
       "version_minor": 0
      },
      "text/plain": [
       "HBox(children=(IntProgress(value=0, max=10000), HTML(value='')))"
      ]
     },
     "metadata": {},
     "output_type": "display_data"
    },
    {
     "name": "stdout",
     "output_type": "stream",
     "text": [
      "Epsilon: 0.2\tTest Accuracy = 4337 / 10000 = 0.4337\n"
     ]
    },
    {
     "data": {
      "application/vnd.jupyter.widget-view+json": {
       "model_id": "80df39d430b44222bed10045a1339a96",
       "version_major": 2,
       "version_minor": 0
      },
      "text/plain": [
       "HBox(children=(IntProgress(value=0, max=10000), HTML(value='')))"
      ]
     },
     "metadata": {},
     "output_type": "display_data"
    },
    {
     "name": "stdout",
     "output_type": "stream",
     "text": [
      "Epsilon: 0.25\tTest Accuracy = 3353 / 10000 = 0.3353\n"
     ]
    },
    {
     "data": {
      "application/vnd.jupyter.widget-view+json": {
       "model_id": "055009f9cacf4e18b198245e15429595",
       "version_major": 2,
       "version_minor": 0
      },
      "text/plain": [
       "HBox(children=(IntProgress(value=0, max=10000), HTML(value='')))"
      ]
     },
     "metadata": {},
     "output_type": "display_data"
    },
    {
     "name": "stdout",
     "output_type": "stream",
     "text": [
      "Epsilon: 0.3\tTest Accuracy = 2583 / 10000 = 0.2583\n",
      "\n",
      "0.001\n"
     ]
    },
    {
     "data": {
      "application/vnd.jupyter.widget-view+json": {
       "model_id": "24111f57001a47348ff2145a5ad96868",
       "version_major": 2,
       "version_minor": 0
      },
      "text/plain": [
       "HBox(children=(IntProgress(value=0, max=7), HTML(value='')))"
      ]
     },
     "metadata": {},
     "output_type": "display_data"
    },
    {
     "data": {
      "application/vnd.jupyter.widget-view+json": {
       "model_id": "0df33cec6f37485f93f85c44a19dfad3",
       "version_major": 2,
       "version_minor": 0
      },
      "text/plain": [
       "HBox(children=(IntProgress(value=0, max=10000), HTML(value='')))"
      ]
     },
     "metadata": {},
     "output_type": "display_data"
    },
    {
     "name": "stdout",
     "output_type": "stream",
     "text": [
      "Epsilon: 0\tTest Accuracy = 9840 / 10000 = 0.984\n"
     ]
    },
    {
     "data": {
      "application/vnd.jupyter.widget-view+json": {
       "model_id": "a3000d2344f04a80a7cc6bd4c252f9fe",
       "version_major": 2,
       "version_minor": 0
      },
      "text/plain": [
       "HBox(children=(IntProgress(value=0, max=10000), HTML(value='')))"
      ]
     },
     "metadata": {},
     "output_type": "display_data"
    },
    {
     "name": "stdout",
     "output_type": "stream",
     "text": [
      "Epsilon: 0.05\tTest Accuracy = 8909 / 10000 = 0.8909\n"
     ]
    },
    {
     "data": {
      "application/vnd.jupyter.widget-view+json": {
       "model_id": "ddedd91d1e2a4615afcbfa789b4c529e",
       "version_major": 2,
       "version_minor": 0
      },
      "text/plain": [
       "HBox(children=(IntProgress(value=0, max=10000), HTML(value='')))"
      ]
     },
     "metadata": {},
     "output_type": "display_data"
    },
    {
     "name": "stdout",
     "output_type": "stream",
     "text": [
      "Epsilon: 0.1\tTest Accuracy = 7463 / 10000 = 0.7463\n"
     ]
    },
    {
     "data": {
      "application/vnd.jupyter.widget-view+json": {
       "model_id": "45eed256f01f4981b0dfe786b6603baa",
       "version_major": 2,
       "version_minor": 0
      },
      "text/plain": [
       "HBox(children=(IntProgress(value=0, max=10000), HTML(value='')))"
      ]
     },
     "metadata": {},
     "output_type": "display_data"
    },
    {
     "name": "stdout",
     "output_type": "stream",
     "text": [
      "Epsilon: 0.15\tTest Accuracy = 5594 / 10000 = 0.5594\n"
     ]
    },
    {
     "data": {
      "application/vnd.jupyter.widget-view+json": {
       "model_id": "0ea4e19fe5574534b93b4191114ed77f",
       "version_major": 2,
       "version_minor": 0
      },
      "text/plain": [
       "HBox(children=(IntProgress(value=0, max=10000), HTML(value='')))"
      ]
     },
     "metadata": {},
     "output_type": "display_data"
    },
    {
     "name": "stdout",
     "output_type": "stream",
     "text": [
      "Epsilon: 0.2\tTest Accuracy = 4043 / 10000 = 0.4043\n"
     ]
    },
    {
     "data": {
      "application/vnd.jupyter.widget-view+json": {
       "model_id": "fdafd7ff7e3a408ba6e784b2e543f9dc",
       "version_major": 2,
       "version_minor": 0
      },
      "text/plain": [
       "HBox(children=(IntProgress(value=0, max=10000), HTML(value='')))"
      ]
     },
     "metadata": {},
     "output_type": "display_data"
    },
    {
     "name": "stdout",
     "output_type": "stream",
     "text": [
      "Epsilon: 0.25\tTest Accuracy = 2948 / 10000 = 0.2948\n"
     ]
    },
    {
     "data": {
      "application/vnd.jupyter.widget-view+json": {
       "model_id": "22769a6ae960457cae4e947c406178f9",
       "version_major": 2,
       "version_minor": 0
      },
      "text/plain": [
       "HBox(children=(IntProgress(value=0, max=10000), HTML(value='')))"
      ]
     },
     "metadata": {},
     "output_type": "display_data"
    },
    {
     "name": "stdout",
     "output_type": "stream",
     "text": [
      "Epsilon: 0.3\tTest Accuracy = 2063 / 10000 = 0.2063\n",
      "\n",
      "0.0001\n"
     ]
    },
    {
     "data": {
      "application/vnd.jupyter.widget-view+json": {
       "model_id": "727bb30e86144afdbec2faec6232069c",
       "version_major": 2,
       "version_minor": 0
      },
      "text/plain": [
       "HBox(children=(IntProgress(value=0, max=7), HTML(value='')))"
      ]
     },
     "metadata": {},
     "output_type": "display_data"
    },
    {
     "data": {
      "application/vnd.jupyter.widget-view+json": {
       "model_id": "6762970457684e6db7a821919918e8d8",
       "version_major": 2,
       "version_minor": 0
      },
      "text/plain": [
       "HBox(children=(IntProgress(value=0, max=10000), HTML(value='')))"
      ]
     },
     "metadata": {},
     "output_type": "display_data"
    },
    {
     "name": "stdout",
     "output_type": "stream",
     "text": [
      "Epsilon: 0\tTest Accuracy = 9858 / 10000 = 0.9858\n"
     ]
    },
    {
     "data": {
      "application/vnd.jupyter.widget-view+json": {
       "model_id": "3b0438fff81248e5b6673685abf9cccc",
       "version_major": 2,
       "version_minor": 0
      },
      "text/plain": [
       "HBox(children=(IntProgress(value=0, max=10000), HTML(value='')))"
      ]
     },
     "metadata": {},
     "output_type": "display_data"
    },
    {
     "name": "stdout",
     "output_type": "stream",
     "text": [
      "Epsilon: 0.05\tTest Accuracy = 8926 / 10000 = 0.8926\n"
     ]
    },
    {
     "data": {
      "application/vnd.jupyter.widget-view+json": {
       "model_id": "ddc312d120894064957721aa460ac039",
       "version_major": 2,
       "version_minor": 0
      },
      "text/plain": [
       "HBox(children=(IntProgress(value=0, max=10000), HTML(value='')))"
      ]
     },
     "metadata": {},
     "output_type": "display_data"
    },
    {
     "name": "stdout",
     "output_type": "stream",
     "text": [
      "Epsilon: 0.1\tTest Accuracy = 6780 / 10000 = 0.678\n"
     ]
    },
    {
     "data": {
      "application/vnd.jupyter.widget-view+json": {
       "model_id": "dfcff5d8d7bd47d79760014a0f8e0e7a",
       "version_major": 2,
       "version_minor": 0
      },
      "text/plain": [
       "HBox(children=(IntProgress(value=0, max=10000), HTML(value='')))"
      ]
     },
     "metadata": {},
     "output_type": "display_data"
    },
    {
     "name": "stdout",
     "output_type": "stream",
     "text": [
      "Epsilon: 0.15\tTest Accuracy = 3720 / 10000 = 0.372\n"
     ]
    },
    {
     "data": {
      "application/vnd.jupyter.widget-view+json": {
       "model_id": "c2dcc12174c2448482651accdda973a9",
       "version_major": 2,
       "version_minor": 0
      },
      "text/plain": [
       "HBox(children=(IntProgress(value=0, max=10000), HTML(value='')))"
      ]
     },
     "metadata": {},
     "output_type": "display_data"
    },
    {
     "name": "stdout",
     "output_type": "stream",
     "text": [
      "Epsilon: 0.2\tTest Accuracy = 1508 / 10000 = 0.1508\n"
     ]
    },
    {
     "data": {
      "application/vnd.jupyter.widget-view+json": {
       "model_id": "26cc7a69e1ec455f835ce30c85e565f6",
       "version_major": 2,
       "version_minor": 0
      },
      "text/plain": [
       "HBox(children=(IntProgress(value=0, max=10000), HTML(value='')))"
      ]
     },
     "metadata": {},
     "output_type": "display_data"
    },
    {
     "name": "stdout",
     "output_type": "stream",
     "text": [
      "Epsilon: 0.25\tTest Accuracy = 533 / 10000 = 0.0533\n"
     ]
    },
    {
     "data": {
      "application/vnd.jupyter.widget-view+json": {
       "model_id": "ebbd8eb77c324c2fbb506edb83670d84",
       "version_major": 2,
       "version_minor": 0
      },
      "text/plain": [
       "HBox(children=(IntProgress(value=0, max=10000), HTML(value='')))"
      ]
     },
     "metadata": {},
     "output_type": "display_data"
    },
    {
     "name": "stdout",
     "output_type": "stream",
     "text": [
      "Epsilon: 0.3\tTest Accuracy = 209 / 10000 = 0.0209\n",
      "\n",
      "1e-05\n"
     ]
    },
    {
     "data": {
      "application/vnd.jupyter.widget-view+json": {
       "model_id": "1556d6c9071c459da666b19d7b653496",
       "version_major": 2,
       "version_minor": 0
      },
      "text/plain": [
       "HBox(children=(IntProgress(value=0, max=7), HTML(value='')))"
      ]
     },
     "metadata": {},
     "output_type": "display_data"
    },
    {
     "data": {
      "application/vnd.jupyter.widget-view+json": {
       "model_id": "e5010293f4984c9eb5574e18914784c3",
       "version_major": 2,
       "version_minor": 0
      },
      "text/plain": [
       "HBox(children=(IntProgress(value=0, max=10000), HTML(value='')))"
      ]
     },
     "metadata": {},
     "output_type": "display_data"
    },
    {
     "name": "stdout",
     "output_type": "stream",
     "text": [
      "Epsilon: 0\tTest Accuracy = 9868 / 10000 = 0.9868\n"
     ]
    },
    {
     "data": {
      "application/vnd.jupyter.widget-view+json": {
       "model_id": "3f19782492bf41eb9478725876b3d9db",
       "version_major": 2,
       "version_minor": 0
      },
      "text/plain": [
       "HBox(children=(IntProgress(value=0, max=10000), HTML(value='')))"
      ]
     },
     "metadata": {},
     "output_type": "display_data"
    },
    {
     "name": "stdout",
     "output_type": "stream",
     "text": [
      "Epsilon: 0.05\tTest Accuracy = 8885 / 10000 = 0.8885\n"
     ]
    },
    {
     "data": {
      "application/vnd.jupyter.widget-view+json": {
       "model_id": "438cc963db954b47a4169e2c3decc72c",
       "version_major": 2,
       "version_minor": 0
      },
      "text/plain": [
       "HBox(children=(IntProgress(value=0, max=10000), HTML(value='')))"
      ]
     },
     "metadata": {},
     "output_type": "display_data"
    },
    {
     "name": "stdout",
     "output_type": "stream",
     "text": [
      "Epsilon: 0.1\tTest Accuracy = 5925 / 10000 = 0.5925\n"
     ]
    },
    {
     "data": {
      "application/vnd.jupyter.widget-view+json": {
       "model_id": "ea9255cb3a9d420796fb0d31e859b9c4",
       "version_major": 2,
       "version_minor": 0
      },
      "text/plain": [
       "HBox(children=(IntProgress(value=0, max=10000), HTML(value='')))"
      ]
     },
     "metadata": {},
     "output_type": "display_data"
    },
    {
     "name": "stdout",
     "output_type": "stream",
     "text": [
      "Epsilon: 0.15\tTest Accuracy = 2471 / 10000 = 0.2471\n"
     ]
    },
    {
     "data": {
      "application/vnd.jupyter.widget-view+json": {
       "model_id": "069734ab6ba64f9d930e0a60d7375f06",
       "version_major": 2,
       "version_minor": 0
      },
      "text/plain": [
       "HBox(children=(IntProgress(value=0, max=10000), HTML(value='')))"
      ]
     },
     "metadata": {},
     "output_type": "display_data"
    },
    {
     "name": "stdout",
     "output_type": "stream",
     "text": [
      "Epsilon: 0.2\tTest Accuracy = 886 / 10000 = 0.0886\n"
     ]
    },
    {
     "data": {
      "application/vnd.jupyter.widget-view+json": {
       "model_id": "e3fb894f93344d9883744f0f0661e6f9",
       "version_major": 2,
       "version_minor": 0
      },
      "text/plain": [
       "HBox(children=(IntProgress(value=0, max=10000), HTML(value='')))"
      ]
     },
     "metadata": {},
     "output_type": "display_data"
    },
    {
     "name": "stdout",
     "output_type": "stream",
     "text": [
      "Epsilon: 0.25\tTest Accuracy = 409 / 10000 = 0.0409\n"
     ]
    },
    {
     "data": {
      "application/vnd.jupyter.widget-view+json": {
       "model_id": "71ff14ec1cc641ae815b740cbf408189",
       "version_major": 2,
       "version_minor": 0
      },
      "text/plain": [
       "HBox(children=(IntProgress(value=0, max=10000), HTML(value='')))"
      ]
     },
     "metadata": {},
     "output_type": "display_data"
    },
    {
     "name": "stdout",
     "output_type": "stream",
     "text": [
      "Epsilon: 0.3\tTest Accuracy = 272 / 10000 = 0.0272\n",
      "\n",
      "1e-06\n"
     ]
    },
    {
     "data": {
      "application/vnd.jupyter.widget-view+json": {
       "model_id": "e8ced334f63342c49007b2acb21b32d3",
       "version_major": 2,
       "version_minor": 0
      },
      "text/plain": [
       "HBox(children=(IntProgress(value=0, max=7), HTML(value='')))"
      ]
     },
     "metadata": {},
     "output_type": "display_data"
    },
    {
     "data": {
      "application/vnd.jupyter.widget-view+json": {
       "model_id": "87fbab81c8634373b13a44e3d2905ef1",
       "version_major": 2,
       "version_minor": 0
      },
      "text/plain": [
       "HBox(children=(IntProgress(value=0, max=10000), HTML(value='')))"
      ]
     },
     "metadata": {},
     "output_type": "display_data"
    },
    {
     "name": "stdout",
     "output_type": "stream",
     "text": [
      "Epsilon: 0\tTest Accuracy = 9873 / 10000 = 0.9873\n"
     ]
    },
    {
     "data": {
      "application/vnd.jupyter.widget-view+json": {
       "model_id": "af027528702e4ce385ebe73cc9c75a1e",
       "version_major": 2,
       "version_minor": 0
      },
      "text/plain": [
       "HBox(children=(IntProgress(value=0, max=10000), HTML(value='')))"
      ]
     },
     "metadata": {},
     "output_type": "display_data"
    },
    {
     "name": "stdout",
     "output_type": "stream",
     "text": [
      "Epsilon: 0.05\tTest Accuracy = 8709 / 10000 = 0.8709\n"
     ]
    },
    {
     "data": {
      "application/vnd.jupyter.widget-view+json": {
       "model_id": "347c35c0c503402fbb7aa4007391c419",
       "version_major": 2,
       "version_minor": 0
      },
      "text/plain": [
       "HBox(children=(IntProgress(value=0, max=10000), HTML(value='')))"
      ]
     },
     "metadata": {},
     "output_type": "display_data"
    },
    {
     "name": "stdout",
     "output_type": "stream",
     "text": [
      "Epsilon: 0.1\tTest Accuracy = 5025 / 10000 = 0.5025\n"
     ]
    },
    {
     "data": {
      "application/vnd.jupyter.widget-view+json": {
       "model_id": "d8f7e54dc70848a19dee1e74bafd00ce",
       "version_major": 2,
       "version_minor": 0
      },
      "text/plain": [
       "HBox(children=(IntProgress(value=0, max=10000), HTML(value='')))"
      ]
     },
     "metadata": {},
     "output_type": "display_data"
    },
    {
     "name": "stdout",
     "output_type": "stream",
     "text": [
      "Epsilon: 0.15\tTest Accuracy = 2262 / 10000 = 0.2262\n"
     ]
    },
    {
     "data": {
      "application/vnd.jupyter.widget-view+json": {
       "model_id": "210e50c7f5e2479c8cda8ef87943f583",
       "version_major": 2,
       "version_minor": 0
      },
      "text/plain": [
       "HBox(children=(IntProgress(value=0, max=10000), HTML(value='')))"
      ]
     },
     "metadata": {},
     "output_type": "display_data"
    },
    {
     "name": "stdout",
     "output_type": "stream",
     "text": [
      "Epsilon: 0.2\tTest Accuracy = 1380 / 10000 = 0.138\n"
     ]
    },
    {
     "data": {
      "application/vnd.jupyter.widget-view+json": {
       "model_id": "0dce783e9c774a3ca4ac64df057638e7",
       "version_major": 2,
       "version_minor": 0
      },
      "text/plain": [
       "HBox(children=(IntProgress(value=0, max=10000), HTML(value='')))"
      ]
     },
     "metadata": {},
     "output_type": "display_data"
    },
    {
     "name": "stdout",
     "output_type": "stream",
     "text": [
      "Epsilon: 0.25\tTest Accuracy = 1024 / 10000 = 0.1024\n"
     ]
    },
    {
     "data": {
      "application/vnd.jupyter.widget-view+json": {
       "model_id": "668bc8a76b3f44bcbb7bd17e86a65dfc",
       "version_major": 2,
       "version_minor": 0
      },
      "text/plain": [
       "HBox(children=(IntProgress(value=0, max=10000), HTML(value='')))"
      ]
     },
     "metadata": {},
     "output_type": "display_data"
    },
    {
     "name": "stdout",
     "output_type": "stream",
     "text": [
      "Epsilon: 0.3\tTest Accuracy = 873 / 10000 = 0.0873\n",
      "\n"
     ]
    }
   ],
   "source": [
    "examples = []\n",
    "fin_acc = []\n",
    "\n",
    "net = Net()\n",
    "net_test = Net()\n",
    "if torch.cuda.device_count() > 1:\n",
    "    print(\"Let's use\",torch.cuda.device_count(),\"GPUs!\")\n",
    "    net = nn.DataParallel(net)\n",
    "    net_test = nn.DataParallel(net_test)\n",
    "# MNIST Test dataset and dataloader declaration\n",
    "test_loader = torch.utils.data.DataLoader(testset,batch_size=1, shuffle=True)\n",
    "\n",
    "# Run test for each epsilon\n",
    "for beta in betas:\n",
    "    print(beta)\n",
    "    accuracies = []\n",
    "    net, net_test = load(beta, net, net_test)\n",
    "    for eps in tqdm_notebook(epsilons):\n",
    "        acc, ex = test(net_test, device, test_loader, eps)\n",
    "        accuracies.append(acc)\n",
    "        examples.append(ex)\n",
    "    fin_acc.append(accuracies)"
   ]
  },
  {
   "cell_type": "code",
   "execution_count": 16,
   "metadata": {},
   "outputs": [
    {
     "data": {
      "image/png": "[encoded data removed]",
      "text/plain": [
       "<Figure size 360x360 with 1 Axes>"
      ]
     },
     "metadata": {},
     "output_type": "display_data"
    }
   ],
   "source": [
    "plt.figure(figsize=(5,5))\n",
    "for i, accuracies in enumerate(fin_acc):\n",
    "    plt.plot(epsilons, accuracies, \"*-\",label=str(betas[i]))\n",
    "plt.legend()\n",
    "plt.yticks(np.arange(0, 1.1, step=0.1))\n",
    "plt.xticks(np.arange(0, .35, step=0.05))\n",
    "plt.title(\"Accuracy vs Epsilon\")\n",
    "plt.xlabel(\"Epsilon\")\n",
    "plt.ylabel(\"Accuracy\")\n",
    "plt.show()"
   ]
  },
  {
   "cell_type": "code",
   "execution_count": 17,
   "metadata": {},
   "outputs": [
    {
     "data": {
      "image/png": "[encoded data removed]",
      "text/plain": [
       "<Figure size 576x720 with 35 Axes>"
      ]
     },
     "metadata": {},
     "output_type": "display_data"
    }
   ],
   "source": [
    "# Plot several examples of adversarial samples at each epsilon\n",
    "cnt = 0\n",
    "plt.figure(figsize=(8,10))\n",
    "for i in range(len(epsilons)):\n",
    "    for j in range(len(examples[i])):\n",
    "        cnt += 1\n",
    "        plt.subplot(len(epsilons),len(examples[0]),cnt)\n",
    "        plt.xticks([], [])\n",
    "        plt.yticks([], [])\n",
    "        if j == 0:\n",
    "            plt.ylabel(\"Eps: {}\".format(epsilons[i]), fontsize=14)\n",
    "        orig,adv,ex = examples[i][j]\n",
    "        plt.title(\"{} -> {}\".format(orig, adv))\n",
    "        plt.imshow(ex, cmap=\"gray\")\n",
    "plt.tight_layout()\n",
    "plt.show()"
   ]
  },
  {
   "cell_type": "markdown",
   "metadata": {},
   "source": [
    "# 6. Application : Variational Discriminator Bottleneck"
   ]
  },
  {
   "cell_type": "code",
   "execution_count": 12,
   "metadata": {},
   "outputs": [],
   "source": [
    "origin_data = -2 + 0.5 * torch.randn(100)\n",
    "fake_data = 2 + 0.5 * torch.randn(100)"
   ]
  },
  {
   "cell_type": "code",
   "execution_count": 13,
   "metadata": {},
   "outputs": [
    {
     "data": {
      "image/png": "[encoded data removed]",
      "text/plain": [
       "<Figure size 432x288 with 1 Axes>"
      ]
     },
     "metadata": {},
     "output_type": "display_data"
    }
   ],
   "source": [
    "sns.distplot(origin_data)\n",
    "sns.distplot(fake_data)\n",
    "plt.tight_layout()\n",
    "plt.show()"
   ]
  },
  {
   "cell_type": "code",
   "execution_count": 14,
   "metadata": {},
   "outputs": [],
   "source": [
    "class D(nn.Module):\n",
    "    def __init__(self, hidden_dim=1024, latent_dim=256, num_latent=1):\n",
    "        super(D, self).__init__()\n",
    "        self.fc1 = nn.Linear(1, hidden_dim)\n",
    "        self.fc2 = nn.Linear(hidden_dim, hidden_dim)\n",
    "        self.enc_mean = nn.Linear(hidden_dim, latent_dim)\n",
    "        self.enc_std = nn.Linear(hidden_dim, latent_dim)\n",
    "        self.dec = nn.Linear(latent_dim, 1)\n",
    "        self.num_latent = num_latent\n",
    "        \n",
    "        nn.init.xavier_uniform_(self.fc1.weight)\n",
    "        nn.init.constant_(self.fc1.bias, 0.0)\n",
    "        nn.init.xavier_uniform_(self.fc2.weight)\n",
    "        nn.init.constant_(self.fc2.bias, 0.0)\n",
    "        nn.init.xavier_uniform_(self.enc_mean.weight)\n",
    "        nn.init.constant_(self.enc_mean.bias, 0.0)\n",
    "        nn.init.xavier_uniform_(self.enc_std.weight)\n",
    "        nn.init.constant_(self.enc_std.bias, 0.0)\n",
    "        nn.init.xavier_uniform_(self.dec.weight)\n",
    "        nn.init.constant_(self.dec.bias, 0.0)\n",
    "        \n",
    "    def forward(self, x):\n",
    "        x = x.view(-1, 1)\n",
    "        x = F.relu(self.fc1(x))\n",
    "        x = F.relu(self.fc2(x))\n",
    "        enc_mean, enc_std = self.enc_mean(x), F.softplus(self.enc_std(x)-5)\n",
    "        latent = enc_mean.unsqueeze(1)\n",
    "        outputs = torch.sigmoid(self.dec(latent))\n",
    "        output = torch.mean(outputs, dim=1)\n",
    "        return outputs, output, enc_mean, enc_std"
   ]
  },
  {
   "cell_type": "code",
   "execution_count": 15,
   "metadata": {},
   "outputs": [],
   "source": [
    "def calc_loss(outputs, enc_mean, enc_std, Ic=1e-1, beta=1e-1, is_fake=True):\n",
    "    if is_fake:\n",
    "        nll = torch.mean(- torch.log(outputs))\n",
    "        penalty = (0.5 * torch.mean(torch.sum(enc_mean**2 \\\n",
    "        + enc_std**2 - torch.log(enc_std**2) - 1,dim=1)) - Ic)\n",
    "        loss = nll + beta * penalty\n",
    "    else:\n",
    "        nll = torch.mean(- torch.log(1-outputs))\n",
    "        penalty = (0.5 * torch.mean(torch.sum(enc_mean**2 \\\n",
    "        + enc_std**2 - torch.log(enc_std**2) - 1,dim=1)) - Ic)\n",
    "        loss = nll + beta * penalty\n",
    "    return loss, penalty\n",
    "\n",
    "def train(epoch, net, optimizer, origin_data=origin_data, fake_data=fake_data, beta=1e-1,Ic=1e-1):\n",
    "    running_loss = 0.0\n",
    "    # get the inputs\n",
    "    origin_data = torch.Tensor(origin_data).to(device)\n",
    "    fake_data = torch.Tensor(fake_data).to(device)\n",
    "\n",
    "    # zero the parameter gradients\n",
    "    optimizer.zero_grad()\n",
    "\n",
    "    # forward + backward + optimize\n",
    "    o_outputs, o_output, o_end_means, o_enc_stds = net(origin_data)\n",
    "    o_loss, o_penalty = calc_loss(o_outputs, o_end_means, o_enc_stds, is_fake=False, Ic=Ic, beta=beta)\n",
    "    f_outputs, f_output, f_end_means, f_enc_stds = net(fake_data)\n",
    "    f_loss, f_penalty = calc_loss(f_outputs, f_end_means, f_enc_stds, is_fake=True, Ic=Ic, beta=beta)\n",
    "    loss = o_loss + f_loss\n",
    "    penalty = o_penalty + f_penalty\n",
    "    beta = F.relu(beta + 1e-4*penalty)\n",
    "    loss.backward()\n",
    "    optimizer.step()\n",
    "    \n",
    "\n",
    "    # print statistics\n",
    "    running_loss += loss.item()\n",
    "    if (epoch+1) % 1000 == 0:\n",
    "        print('[Epoch : %d] loss: %.3f' %\n",
    "              (epoch + 1, running_loss))\n",
    "    return running_loss , beta.detach()"
   ]
  },
  {
   "cell_type": "code",
   "execution_count": 16,
   "metadata": {},
   "outputs": [
    {
     "name": "stdout",
     "output_type": "stream",
     "text": [
      "10.0\n",
      "[Epoch : 1000] loss: -378.806\n",
      "[Epoch : 2000] loss: -339.088\n",
      "[Epoch : 3000] loss: -299.319\n",
      "[Epoch : 4000] loss: -259.547\n",
      "[Epoch : 5000] loss: -219.747\n",
      "[Epoch : 6000] loss: -179.945\n",
      "[Epoch : 7000] loss: -140.134\n",
      "[Epoch : 8000] loss: -100.324\n",
      "[Epoch : 9000] loss: -60.528\n",
      "[Epoch : 10000] loss: -20.778\n",
      "1.0\n",
      "[Epoch : 1000] loss: -41.994\n",
      "[Epoch : 2000] loss: -41.952\n",
      "[Epoch : 3000] loss: -41.603\n",
      "[Epoch : 4000] loss: -41.455\n",
      "[Epoch : 5000] loss: -41.166\n",
      "[Epoch : 6000] loss: -40.839\n",
      "[Epoch : 7000] loss: -40.550\n",
      "[Epoch : 8000] loss: -40.204\n",
      "[Epoch : 9000] loss: -39.838\n",
      "[Epoch : 10000] loss: -39.538\n",
      "0.01\n",
      "[Epoch : 1000] loss: 1.296\n",
      "[Epoch : 2000] loss: 0.743\n",
      "[Epoch : 3000] loss: 0.550\n",
      "[Epoch : 4000] loss: 0.421\n",
      "[Epoch : 5000] loss: 0.319\n",
      "[Epoch : 6000] loss: 0.277\n",
      "[Epoch : 7000] loss: 0.166\n",
      "[Epoch : 8000] loss: 0.082\n",
      "[Epoch : 9000] loss: 0.128\n",
      "[Epoch : 10000] loss: -0.033\n"
     ]
    },
    {
     "data": {
      "image/png": "[encoded data removed]",
      "text/plain": [
       "<Figure size 432x288 with 1 Axes>"
      ]
     },
     "metadata": {},
     "output_type": "display_data"
    }
   ],
   "source": [
    "Ics = [10.,1.,1e-2]\n",
    "beta = 0.0\n",
    "fin_out = list()\n",
    "test_input = torch.Tensor(np.linspace(-4,4,400)).to(device)\n",
    "\n",
    "for Ic in Ics:\n",
    "    print(Ic)\n",
    "    d = D()\n",
    "    d.to(device)\n",
    "    optimizer = optim.Adam(d.parameters(),lr=1e-4)\n",
    "    for epoch in range(10000):\n",
    "        loss, beta = train(epoch, d, optimizer, Ic=Ic, beta=beta)\n",
    "    test_output = d(test_input)[1].detach().cpu().numpy()\n",
    "    fin_out.append(test_output)\n",
    "    \n",
    "for i, Ic in enumerate(Ics):\n",
    "    plt.plot(np.linspace(-4,4,400),fin_out[i], label=str(Ic))\n",
    "sns.distplot(origin_data)\n",
    "sns.distplot(fake_data)\n",
    "plt.legend()\n",
    "plt.tight_layout()\n",
    "plt.show()"
   ]
  },
  {
   "cell_type": "code",
   "execution_count": 17,
   "metadata": {},
   "outputs": [],
   "source": [
    "def calc_loss_IP(outputs, enc_mean, enc_std, Ic=1e-1, beta=1e-1, is_fake=True):\n",
    "    '''\n",
    "    We also test Information penalty (like WGAN-GP) heuristic to consider the IB constraint.\n",
    "    '''\n",
    "    if is_fake:\n",
    "        nll = torch.mean(- torch.log(outputs))\n",
    "        penalty = (0.5 * torch.mean(torch.sum(enc_mean**2 \\\n",
    "        + enc_std**2 - torch.log(enc_std**2) - 1,dim=1)) - Ic)**2\n",
    "        loss = nll + beta * penalty\n",
    "    else:\n",
    "        nll = torch.mean(- torch.log(1-outputs))\n",
    "        penalty = (0.5 * torch.mean(torch.sum(enc_mean**2 \\\n",
    "        + enc_std**2 - torch.log(enc_std**2) - 1,dim=1)) - Ic)**2\n",
    "        loss = nll + beta * penalty\n",
    "    return loss, penalty\n",
    "\n",
    "def train_IP(epoch, net, optimizer, origin_data=origin_data, fake_data=fake_data, beta=1e-1,Ic=1e-1):\n",
    "    running_loss = 0.0\n",
    "    # get the inputs\n",
    "    origin_data = torch.Tensor(origin_data).to(device)\n",
    "    fake_data = torch.Tensor(fake_data).to(device)\n",
    "\n",
    "    # zero the parameter gradients\n",
    "    optimizer.zero_grad()\n",
    "\n",
    "    # forward + backward + optimize\n",
    "    o_outputs, o_output, o_end_means, o_enc_stds = net(origin_data)\n",
    "    o_loss, o_penalty = calc_loss_IP(o_outputs, o_end_means, o_enc_stds, is_fake=False, Ic=Ic, beta=beta)\n",
    "    f_outputs, f_output, f_end_means, f_enc_stds = net(fake_data)\n",
    "    f_loss, f_penalty = calc_loss_IP(f_outputs, f_end_means, f_enc_stds, is_fake=True, Ic=Ic, beta=beta)\n",
    "    loss = o_loss + f_loss\n",
    "    loss.backward()\n",
    "    optimizer.step()\n",
    "    \n",
    "\n",
    "    # print statistics\n",
    "    running_loss += loss.item()\n",
    "    if (epoch+1) % 1000 == 0:\n",
    "        print('[Epoch : %d] loss: %.3f' %\n",
    "              (epoch + 1, running_loss))\n",
    "    return running_loss"
   ]
  },
  {
   "cell_type": "code",
   "execution_count": 19,
   "metadata": {},
   "outputs": [
    {
     "name": "stdout",
     "output_type": "stream",
     "text": [
      "10.0\n",
      "[Epoch : 1000] loss: 88619.250\n",
      "[Epoch : 2000] loss: 0.993\n",
      "[Epoch : 3000] loss: 0.200\n",
      "[Epoch : 4000] loss: 0.071\n",
      "[Epoch : 5000] loss: 0.032\n",
      "[Epoch : 6000] loss: 0.016\n",
      "[Epoch : 7000] loss: 0.009\n",
      "[Epoch : 8000] loss: 0.012\n",
      "[Epoch : 9000] loss: 0.003\n",
      "[Epoch : 10000] loss: 0.007\n",
      "1.0\n",
      "[Epoch : 1000] loss: 61467.133\n",
      "[Epoch : 2000] loss: 216.296\n",
      "[Epoch : 3000] loss: 19.099\n",
      "[Epoch : 4000] loss: 2.619\n",
      "[Epoch : 5000] loss: 0.448\n",
      "[Epoch : 6000] loss: 0.143\n",
      "[Epoch : 7000] loss: 0.065\n",
      "[Epoch : 8000] loss: 0.034\n",
      "[Epoch : 9000] loss: 0.019\n",
      "[Epoch : 10000] loss: 0.011\n",
      "0.01\n",
      "[Epoch : 1000] loss: 81953.727\n",
      "[Epoch : 2000] loss: 783.751\n",
      "[Epoch : 3000] loss: 113.121\n",
      "[Epoch : 4000] loss: 32.600\n",
      "[Epoch : 5000] loss: 12.580\n",
      "[Epoch : 6000] loss: 3.978\n",
      "[Epoch : 7000] loss: 2.137\n",
      "[Epoch : 8000] loss: 1.285\n",
      "[Epoch : 9000] loss: 0.822\n",
      "[Epoch : 10000] loss: 0.562\n"
     ]
    },
    {
     "data": {
      "image/png": "[encoded data removed]",
      "text/plain": [
       "<Figure size 432x288 with 1 Axes>"
      ]
     },
     "metadata": {},
     "output_type": "display_data"
    }
   ],
   "source": [
    "Ics = [10.,1.,1e-2]\n",
    "fin_out = list()\n",
    "test_input = torch.Tensor(np.linspace(-4,4,400)).to(device)\n",
    "\n",
    "for Ic in Ics:\n",
    "    print(Ic)\n",
    "    d = D()\n",
    "    d.to(device)\n",
    "    optimizer = optim.Adam(d.parameters(),lr=1e-4)\n",
    "    for epoch in range(10000):\n",
    "        train_IP(epoch, d, optimizer, Ic=Ic, beta=100.0)\n",
    "    test_output = d(test_input)[1].detach().cpu().numpy()\n",
    "    fin_out.append(test_output)\n",
    "    \n",
    "for i, Ic in enumerate(Ics):\n",
    "    plt.plot(np.linspace(-4,4,400),fin_out[i], label=str(Ic))\n",
    "sns.distplot(origin_data)\n",
    "sns.distplot(fake_data)\n",
    "plt.legend()\n",
    "plt.tight_layout()\n",
    "plt.show()"
   ]
  }
 ],
 "metadata": {
  "kernelspec": {
   "display_name": "Python 3",
   "language": "python",
   "name": "python3"
  },
  "language_info": {
   "codemirror_mode": {
    "name": "ipython",
    "version": 3
   },
   "file_extension": ".py",
   "mimetype": "text/x-python",
   "name": "python",
   "nbconvert_exporter": "python",
   "pygments_lexer": "ipython3",
   "version": "3.6.5"
  }
 },
 "nbformat": 4,
 "nbformat_minor": 2
}
